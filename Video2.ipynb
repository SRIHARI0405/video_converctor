{
  "nbformat": 4,
  "nbformat_minor": 0,
  "metadata": {
    "colab": {
      "provenance": []
    },
    "kernelspec": {
      "name": "python3",
      "display_name": "Python 3"
    },
    "language_info": {
      "name": "python"
    }
  },
  "cells": [
    {
      "cell_type": "code",
      "execution_count": 36,
      "metadata": {
        "colab": {
          "base_uri": "https://localhost:8080/"
        },
        "id": "7JIMdHSqdOUO",
        "outputId": "cc5a6c7d-7d8d-4a70-9e3c-22079fc9e396"
      },
      "outputs": [
        {
          "output_type": "stream",
          "name": "stdout",
          "text": [
            "Requirement already satisfied: pytube in /usr/local/lib/python3.10/dist-packages (15.0.0)\n"
          ]
        }
      ],
      "source": [
        "!pip install pytube"
      ]
    },
    {
      "cell_type": "code",
      "source": [
        "from pytube import YouTube\n",
        "\n",
        "video_url = 'https://www.youtube.com/watch?v=YMuuEv37s0o'\n",
        "\n",
        "# Create a YouTube object.\n",
        "yt = YouTube(video_url)\n",
        "\n",
        "# Here, we select the highest resolution (720p) and the first available video stream.\n",
        "stream = yt.streams.filter(progressive=True, file_extension='mp4', resolution='720p').first()\n",
        "\n",
        "# Provide the path where you want to save the downloaded video.\n",
        "download_path = 'video'\n",
        "\n",
        "# Download the video.\n",
        "stream.download(output_path=download_path)\n",
        "print(f\"Video downloaded to {download_path}/{yt.title}.mp4\")"
      ],
      "metadata": {
        "colab": {
          "base_uri": "https://localhost:8080/"
        },
        "id": "mjBQY3o3dnz8",
        "outputId": "8ff57d5e-a3f0-49b2-82e9-0b1057c7484a"
      },
      "execution_count": 2,
      "outputs": [
        {
          "output_type": "stream",
          "name": "stdout",
          "text": [
            "Video downloaded to video/TechNews 1562 || IPL Final, OLA Prime Plus, Love scam, Motorola Edge 40, Premium TV Days Etc....mp4\n"
          ]
        }
      ]
    },
    {
      "cell_type": "code",
      "source": [
        "!git clone https://github.com/Rudrabha/Wav2Lip.git"
      ],
      "metadata": {
        "colab": {
          "base_uri": "https://localhost:8080/"
        },
        "id": "Ry0a7rjktH1l",
        "outputId": "cbb56f7c-922d-41ce-b20e-7c5f7ff03d23"
      },
      "execution_count": 33,
      "outputs": [
        {
          "output_type": "stream",
          "name": "stdout",
          "text": [
            "fatal: destination path 'Wav2Lip' already exists and is not an empty directory.\n"
          ]
        }
      ]
    },
    {
      "cell_type": "code",
      "source": [
        "import subprocess\n",
        "\n",
        "# Set the paths to the required files\n",
        "video_path = '/content/video/TechNews 1562 IPL Final OLA Prime Plus Love scam Motorola Edge 40 Premium TV Days Etc.mp4'  # Path to the video you want to lip-sync\n",
        "audio_path = 'output10.wav'  # Path to the audio file for lip-syncing\n",
        "checkpoint_path = '/content/Wav2Lip/'  # Path to the downloaded Wav2Lip checkpoints\n",
        "output_path = 'final_video_output.mp4'  # Path to save the lip-synced video\n",
        "\n",
        "# Set the padding value (adjust as needed)\n",
        "padding_value = 20\n",
        "\n",
        "# Run the Wav2Lip script with the specified paths and padding value\n",
        "wav2lip_cmd = f'python {checkpoint_path}/inference.py --checkpoint_path {checkpoint_path}/checkpoint.pth --face \"{video_path}\" --audio {audio_path} --outfile {output_path} --pads {padding_value}'\n",
        "\n",
        "# Use subprocess.Popen to capture the output\n",
        "process = subprocess.Popen(wav2lip_cmd, shell=True, stdout=subprocess.PIPE, stderr=subprocess.PIPE)\n",
        "stdout, stderr = process.communicate()\n",
        "\n",
        "print(f\"Lip-synced video saved as {output_path}\")\n"
      ],
      "metadata": {
        "colab": {
          "base_uri": "https://localhost:8080/"
        },
        "id": "zdxisAhxkeqe",
        "outputId": "94d455e1-06df-4efa-bbbf-f0709d1ecb4d"
      },
      "execution_count": 39,
      "outputs": [
        {
          "output_type": "stream",
          "name": "stdout",
          "text": [
            "Lip-synced video saved as final_video_output.mp4\n"
          ]
        }
      ]
    },
    {
      "cell_type": "code",
      "source": [],
      "metadata": {
        "id": "pqNMt5_7oEo9"
      },
      "execution_count": null,
      "outputs": []
    }
  ]
}